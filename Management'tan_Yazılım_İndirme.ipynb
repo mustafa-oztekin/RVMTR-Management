{
 "cells": [
  {
   "cell_type": "code",
   "execution_count": 1,
   "id": "e0c74a5a",
   "metadata": {},
   "outputs": [],
   "source": [
    "import requests\n",
    "from datetime import datetime as dt\n",
    "import wget\n",
    "import json"
   ]
  },
  {
   "cell_type": "code",
   "execution_count": 2,
   "id": "2897d37f",
   "metadata": {},
   "outputs": [
    {
     "name": "stdout",
     "output_type": "stream",
     "text": [
      "200\n"
     ]
    }
   ],
   "source": [
    "file = 'https://atlas.rvmtr.com/Services/Transaction/File/ApiDbListData?apikeysecret=8bc695c4-8a1b-4e4c-bec2-bee821c3a07d'\n",
    "f = requests.get(file)\n",
    "print(f.status_code)"
   ]
  },
  {
   "cell_type": "code",
   "execution_count": 3,
   "id": "e725ef28",
   "metadata": {},
   "outputs": [
    {
     "data": {
      "text/plain": [
       "'[{\"FileId\":1,\"FileName\":\"Test\",\"FileDate\":\"2022-06-29T00:00:00.000\",\"FileDescription\":\"Test\",\"FileVersion\":\"1.0.0\",\"FileFileTypeId\":1},{\"FileId\":2,\"FileName\":\"veri tabanı 1.2\",\"FileDate\":\"2022-06-30T00:00:00.000\",\"FileDescription\":\"1.2vt\",\"FileVersion\":\"1.2\",\"FileFileTypeId\":3},{\"FileId\":3,\"FileName\":\"yeni_yazilim\",\"FileDate\":\"2023-01-30T00:00:00.000\",\"FileVersion\":\"main_v1\",\"FileDocument\":\"TransactionDocumentFiles/00000/00000003_psff6w4ukksd6.py\",\"FileFileTypeId\":3},{\"FileId\":4,\"FileName\":\"Cocola reklam\",\"FileDate\":\"2023-02-08T00:00:00.000\",\"FileDescription\":\"cola reklam\",\"FileVersion\":\"1.4\",\"FileDocument\":\"TransactionDocumentFiles/00000/00000004_fl4flhczekdaq.png\",\"FileFileTypeId\":2},{\"FileId\":5,\"FileName\":\"testtt\",\"FileDate\":\"2023-02-08T00:00:00.000\",\"FileDescription\":\"testtt\",\"FileVersion\":\"1.4\",\"FileDocument\":\"TransactionDocumentFiles/00000/00000005_fouygqj2ochc2.jpg\",\"FileFileTypeId\":4}]'"
      ]
     },
     "execution_count": 3,
     "metadata": {},
     "output_type": "execute_result"
    }
   ],
   "source": [
    "f.json()"
   ]
  },
  {
   "cell_type": "code",
   "execution_count": 4,
   "id": "cd2e0be8",
   "metadata": {},
   "outputs": [
    {
     "name": "stdout",
     "output_type": "stream",
     "text": [
      "The converted list : \n",
      " [{'FileId': 1, 'FileName': 'Test', 'FileDate': '2022-06-29T00:00:00.000', 'FileDescription': 'Test', 'FileVersion': '1.0.0', 'FileFileTypeId': 1}, {'FileId': 2, 'FileName': 'veri tabanı 1.2', 'FileDate': '2022-06-30T00:00:00.000', 'FileDescription': '1.2vt', 'FileVersion': '1.2', 'FileFileTypeId': 3}, {'FileId': 3, 'FileName': 'yeni_yazilim', 'FileDate': '2023-01-30T00:00:00.000', 'FileVersion': 'main_v1', 'FileDocument': 'TransactionDocumentFiles/00000/00000003_psff6w4ukksd6.py', 'FileFileTypeId': 3}, {'FileId': 4, 'FileName': 'Cocola reklam', 'FileDate': '2023-02-08T00:00:00.000', 'FileDescription': 'cola reklam', 'FileVersion': '1.4', 'FileDocument': 'TransactionDocumentFiles/00000/00000004_fl4flhczekdaq.png', 'FileFileTypeId': 2}, {'FileId': 5, 'FileName': 'testtt', 'FileDate': '2023-02-08T00:00:00.000', 'FileDescription': 'testtt', 'FileVersion': '1.4', 'FileDocument': 'TransactionDocumentFiles/00000/00000005_fouygqj2ochc2.jpg', 'FileFileTypeId': 4}]\n"
     ]
    }
   ],
   "source": [
    "result = json.loads(f.json())\n",
    "print(\"The converted list : \\n\",result)"
   ]
  },
  {
   "cell_type": "code",
   "execution_count": 16,
   "id": "e68a1e97",
   "metadata": {},
   "outputs": [
    {
     "name": "stdout",
     "output_type": "stream",
     "text": [
      "Yazılım dosyası: \n",
      " {'FileId': 3, 'FileName': 'yeni_yazilim', 'FileDate': '2023-01-30T00:00:00.000', 'FileVersion': 'main_v1', 'FileDocument': 'TransactionDocumentFiles/00000/00000003_psff6w4ukksd6.py', 'FileFileTypeId': 3}\n",
      "\r",
      "  0% [                                                                              ]     0 / 13918\r",
      " 58% [.............................................                                 ]  8192 / 13918\r",
      "100% [..............................................................................] 13918 / 13918"
     ]
    }
   ],
   "source": [
    "for i in result:\n",
    "    if (i.get('FileName') == 'yeni_yazilim'):\n",
    "        print(\"Yazılım dosyası: \\n\", i)\n",
    "        yazilim_url = 'https://atlas.rvmtr.com/upload/' + i.get('FileDocument')\n",
    "        yazilim_name = wget.download(yazilim_url)"
   ]
  }
 ],
 "metadata": {
  "kernelspec": {
   "display_name": "Python 3 (ipykernel)",
   "language": "python",
   "name": "python3"
  },
  "language_info": {
   "codemirror_mode": {
    "name": "ipython",
    "version": 3
   },
   "file_extension": ".py",
   "mimetype": "text/x-python",
   "name": "python",
   "nbconvert_exporter": "python",
   "pygments_lexer": "ipython3",
   "version": "3.9.7"
  }
 },
 "nbformat": 4,
 "nbformat_minor": 5
}
