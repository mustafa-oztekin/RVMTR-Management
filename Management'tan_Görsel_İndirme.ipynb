{
 "cells": [
  {
   "cell_type": "code",
   "execution_count": 282,
   "id": "b5fde42c",
   "metadata": {},
   "outputs": [],
   "source": [
    "import requests\n",
    "from datetime import datetime as dt\n",
    "import wget\n",
    "import itertools"
   ]
  },
  {
   "cell_type": "code",
   "execution_count": 322,
   "id": "74390530",
   "metadata": {},
   "outputs": [
    {
     "name": "stdout",
     "output_type": "stream",
     "text": [
      "2023-3-14T1:6:7\n"
     ]
    }
   ],
   "source": [
    "# using now() to get current time\n",
    "current_time = dt.now()\n",
    " \n",
    "# Printing attributes of now().\n",
    "year = str(current_time.year)\n",
    "month = str(current_time.month)\n",
    "day = str(current_time.day)\n",
    "hour = str(current_time.hour)\n",
    "minute = str(current_time.minute)\n",
    "second = str(current_time.second)\n",
    "\n",
    "hour = '1'\n",
    "minute = '6'\n",
    "second = '7'\n",
    "\n",
    "n = year + '-' + month + '-' + day + 'T' + hour + ':' + minute + ':' + second\n",
    "print(n)"
   ]
  },
  {
   "cell_type": "code",
   "execution_count": 323,
   "id": "3cc51efd",
   "metadata": {},
   "outputs": [
    {
     "name": "stdout",
     "output_type": "stream",
     "text": [
      "saat icin\n",
      "2023-3-14T01:6:7\n",
      "dakida icin\n",
      "2023-3-14T01:06:7\n",
      "saniye icin\n",
      "2023-3-14T01:06:07\n"
     ]
    }
   ],
   "source": [
    "if len(hour) == 1:\n",
    "    print(\"saat icin\")\n",
    "    new_hour = '0' + hour\n",
    "    n = year + '-' + month + '-' + day + 'T' + new_hour + ':' + minute + ':' + second\n",
    "    hour = new_hour\n",
    "    print(n)\n",
    "\n",
    "if len(minute) == 1:\n",
    "    print(\"dakida icin\")\n",
    "    new_min = '0' + minute\n",
    "    n = year + '-' + month + '-' + day + 'T' + hour + ':' + new_min + ':' + second\n",
    "    minute = new_min\n",
    "    print(n)\n",
    "\n",
    "if len(second) == 1:\n",
    "    print(\"saniye icin\")\n",
    "    new_sec = '0' + second\n",
    "    n = year + '-' + month + '-' + day + 'T' + hour + ':' + minute + ':' + new_sec\n",
    "    second = new_sec\n",
    "    print(n)"
   ]
  },
  {
   "cell_type": "code",
   "execution_count": 286,
   "id": "a9dc2501",
   "metadata": {},
   "outputs": [
    {
     "name": "stdout",
     "output_type": "stream",
     "text": [
      "500\n",
      "500\n",
      "500\n"
     ]
    }
   ],
   "source": [
    "tur = ['Cam', 'Metal', 'Plastik']\n",
    "adet = ['25', '40', '55']\n",
    "\n",
    "for (i, j) in itertools.zip_longest(tur, adet):\n",
    "    response = requests.get('https://atlas.rvmtr.com/Services//Transaction/Event/ApiDbCreateData?apikeysecret=8bc695c4-8a1b-4e4c-bec2-bee821c3a07d&data=[{\"EventId\":1,\"NodeId\":1,\"EventDate\":\"'+n+'\",\"EventName\":\"Doluluk Oranı\",\"EventDescription\":\"'+j+'\",\"TypeId\":7,\"PriorityId\":2,\"ImpactId\":1,\"StatusId\":2,\"Source\":\"'+i+'\",\"SourceId\":\"1\",\"ClearStatus\":\"0\",\"ClearDateTime\":\"'+n+'\",\"SessionId\":1,\"Gift\":0,\"Comment1\":\"\",\"Comment2\":\"\",\"Comment3\":\"\"}]')\n",
    "\n",
    "    print(response.status_code)"
   ]
  },
  {
   "cell_type": "code",
   "execution_count": 356,
   "id": "4c9c6ee0",
   "metadata": {},
   "outputs": [
    {
     "name": "stdout",
     "output_type": "stream",
     "text": [
      "200\n"
     ]
    }
   ],
   "source": [
    "try:\n",
    "    response = requests.get('https://atlas.rvmtr.com/Services//Transaction/Event/ApiDbCreateData?apikeysecret=8bc695c4-8a1b-4e4c-bec2-bee821c3a07d&data=[{\"EventId\":0,\"NodeId\":1,\"EventDate\":\"'+n+'\",\"EventName\":\"Test Event\",\"EventDescription\":\"API Test Event\",\"TypeId\":2,\"PriorityId\":1,\"ImpactId\":3,\"StatusId\":3,\"Source\":\"...\",\"SourceId\":2,\"ClearStatus\":1,\"ClearDateTime\":\"'+n+'\",\"SessionId\":22,\"Gift\":15.0,\"Comment1\":\"This record\",\"Comment2\":\"Created by\",\"Comment3\":\"Test Api Application\"}]')\n",
    "    print(response.status_code)\n",
    "except:\n",
    "    pass"
   ]
  },
  {
   "cell_type": "code",
   "execution_count": 2,
   "id": "05189789",
   "metadata": {},
   "outputs": [
    {
     "name": "stdout",
     "output_type": "stream",
     "text": [
      "200\n"
     ]
    }
   ],
   "source": [
    "url = 'https://atlas.rvmtr.com/Services/Transaction/Event/ApiDbListData?apikeysecret=9f051286-510d-43e9-b4f4-fab7ec51b988'\n",
    "r = requests.get(url)\n",
    "print(r.status_code)"
   ]
  },
  {
   "cell_type": "code",
   "execution_count": 3,
   "id": "96d94321",
   "metadata": {},
   "outputs": [
    {
     "data": {
      "text/plain": [
       "'[{\"EventId\":98,\"NodeId\":2,\"EventDate\":\"2022-07-15T18:50:00.000\",\"EventName\":\"Sistem Durumu\",\"EventDescription\":\"1.4.2\",\"TypeId\":7,\"PriorityId\":2,\"ImpactId\":1,\"StatusId\":2,\"Source\":\"Version\"},{\"EventId\":99,\"NodeId\":2,\"EventDate\":\"2022-07-15T19:15:00.000\",\"EventName\":\"Doluluk Oranı\",\"EventDescription\":\"50\",\"TypeId\":7,\"PriorityId\":2,\"ImpactId\":2,\"StatusId\":2,\"Source\":\"Cam\",\"EventFile\":\"EventFiles/84b6cfbf-925b-4b99-8da0-e56f85d89417.doc\"},{\"EventId\":100,\"NodeId\":2,\"EventDate\":\"2022-07-15T19:30:00.000\",\"EventName\":\"Doluluk Oranı\",\"EventDescription\":\"40\",\"TypeId\":7,\"PriorityId\":2,\"ImpactId\":1,\"StatusId\":2,\"Source\":\"Metal\"},{\"EventId\":101,\"NodeId\":2,\"EventDate\":\"2022-07-15T19:35:00.000\",\"EventName\":\"Doluluk Oranı\",\"EventDescription\":\"70\",\"TypeId\":7,\"PriorityId\":3,\"ImpactId\":2,\"StatusId\":2,\"Source\":\"Plastik\"},{\"EventId\":105,\"NodeId\":2,\"EventDate\":\"2022-07-22T00:55:00.000\",\"EventName\":\"Tanımsız Nesne\",\"EventDescription\":\"Tanımsız Nesne Bulundu.\",\"TypeId\":7,\"PriorityId\":1,\"ImpactId\":2,\"StatusId\":2,\"EventFile\":\"EventFiles/00000/00000105_dggrrrnzurohe.jpg\"}]'"
      ]
     },
     "execution_count": 3,
     "metadata": {},
     "output_type": "execute_result"
    }
   ],
   "source": [
    "r.json()"
   ]
  },
  {
   "cell_type": "code",
   "execution_count": 18,
   "id": "b5cc53aa",
   "metadata": {},
   "outputs": [
    {
     "data": {
      "text/plain": [
       "str"
      ]
     },
     "execution_count": 18,
     "metadata": {},
     "output_type": "execute_result"
    }
   ],
   "source": [
    "type(r.json())"
   ]
  },
  {
   "cell_type": "code",
   "execution_count": null,
   "id": "268eb397",
   "metadata": {},
   "outputs": [],
   "source": []
  },
  {
   "cell_type": "code",
   "execution_count": 23,
   "id": "cc0e6041",
   "metadata": {
    "scrolled": true
   },
   "outputs": [
    {
     "name": "stdout",
     "output_type": "stream",
     "text": [
      "200\n"
     ]
    }
   ],
   "source": [
    "file = 'https://atlas.rvmtr.com/Services/Transaction/File/ApiDbListData?apikeysecret=8bc695c4-8a1b-4e4c-bec2-bee821c3a07d'\n",
    "f = requests.get(file)\n",
    "print(f.status_code)"
   ]
  },
  {
   "cell_type": "code",
   "execution_count": 26,
   "id": "45a0e110",
   "metadata": {},
   "outputs": [
    {
     "data": {
      "text/plain": [
       "'[{\"FileId\":1,\"FileName\":\"Test\",\"FileDate\":\"2022-06-29T00:00:00.000\",\"FileDescription\":\"Test\",\"FileVersion\":\"1.0.0\",\"FileFileTypeId\":1},{\"FileId\":2,\"FileName\":\"veri tabanı 1.2\",\"FileDate\":\"2022-06-30T00:00:00.000\",\"FileDescription\":\"1.2vt\",\"FileVersion\":\"1.2\",\"FileFileTypeId\":3},{\"FileId\":3,\"FileName\":\"yeni_yazilim\",\"FileDate\":\"2023-01-30T00:00:00.000\",\"FileVersion\":\"main_v1\",\"FileDocument\":\"TransactionDocumentFiles/00000/00000003_psff6w4ukksd6.py\",\"FileFileTypeId\":3},{\"FileId\":4,\"FileName\":\"Cocola reklam\",\"FileDate\":\"2023-02-08T00:00:00.000\",\"FileDescription\":\"cola reklam\",\"FileVersion\":\"1.4\",\"FileDocument\":\"TransactionDocumentFiles/00000/00000004_fl4flhczekdaq.png\",\"FileFileTypeId\":2},{\"FileId\":5,\"FileName\":\"testtt\",\"FileDate\":\"2023-02-08T00:00:00.000\",\"FileDescription\":\"testtt\",\"FileVersion\":\"1.4\",\"FileDocument\":\"TransactionDocumentFiles/00000/00000005_fouygqj2ochc2.jpg\",\"FileFileTypeId\":4}]'"
      ]
     },
     "execution_count": 26,
     "metadata": {},
     "output_type": "execute_result"
    }
   ],
   "source": [
    "f.json()"
   ]
  },
  {
   "cell_type": "code",
   "execution_count": 27,
   "id": "f9614f28",
   "metadata": {},
   "outputs": [
    {
     "name": "stdout",
     "output_type": "stream",
     "text": [
      "The converted list : \n",
      " [{'FileId': 1, 'FileName': 'Test', 'FileDate': '2022-06-29T00:00:00.000', 'FileDescription': 'Test', 'FileVersion': '1.0.0', 'FileFileTypeId': 1}, {'FileId': 2, 'FileName': 'veri tabanı 1.2', 'FileDate': '2022-06-30T00:00:00.000', 'FileDescription': '1.2vt', 'FileVersion': '1.2', 'FileFileTypeId': 3}, {'FileId': 3, 'FileName': 'yeni_yazilim', 'FileDate': '2023-01-30T00:00:00.000', 'FileVersion': 'main_v1', 'FileDocument': 'TransactionDocumentFiles/00000/00000003_psff6w4ukksd6.py', 'FileFileTypeId': 3}, {'FileId': 4, 'FileName': 'Cocola reklam', 'FileDate': '2023-02-08T00:00:00.000', 'FileDescription': 'cola reklam', 'FileVersion': '1.4', 'FileDocument': 'TransactionDocumentFiles/00000/00000004_fl4flhczekdaq.png', 'FileFileTypeId': 2}, {'FileId': 5, 'FileName': 'testtt', 'FileDate': '2023-02-08T00:00:00.000', 'FileDescription': 'testtt', 'FileVersion': '1.4', 'FileDocument': 'TransactionDocumentFiles/00000/00000005_fouygqj2ochc2.jpg', 'FileFileTypeId': 4}]\n"
     ]
    }
   ],
   "source": [
    "import json\n",
    "  \n",
    "string = f.json()\n",
    "  \n",
    "# Type check\n",
    "  \n",
    "res = json.loads(string)\n",
    "# Result\n",
    "print(\"The converted list : \\n\",res)"
   ]
  },
  {
   "cell_type": "code",
   "execution_count": 41,
   "id": "8d13a670",
   "metadata": {},
   "outputs": [
    {
     "data": {
      "text/plain": [
       "'TransactionDocumentFiles/00000/00000004_fl4flhczekdaq.png'"
      ]
     },
     "execution_count": 41,
     "metadata": {},
     "output_type": "execute_result"
    }
   ],
   "source": [
    "res[3].get('FileDocument')"
   ]
  },
  {
   "cell_type": "code",
   "execution_count": 43,
   "id": "e311db07",
   "metadata": {},
   "outputs": [
    {
     "name": "stdout",
     "output_type": "stream",
     "text": [
      "\r",
      "  0% [                                                                                ]    0 / 6628\r",
      "100% [................................................................................] 6628 / 6628"
     ]
    }
   ],
   "source": [
    "resim_url = 'https://atlas.rvmtr.com/upload/' + res[3].get('FileDocument')\n",
    "resim_name = wget.download(resim_url)"
   ]
  }
 ],
 "metadata": {
  "kernelspec": {
   "display_name": "Python 3 (ipykernel)",
   "language": "python",
   "name": "python3"
  },
  "language_info": {
   "codemirror_mode": {
    "name": "ipython",
    "version": 3
   },
   "file_extension": ".py",
   "mimetype": "text/x-python",
   "name": "python",
   "nbconvert_exporter": "python",
   "pygments_lexer": "ipython3",
   "version": "3.9.7"
  }
 },
 "nbformat": 4,
 "nbformat_minor": 5
}
