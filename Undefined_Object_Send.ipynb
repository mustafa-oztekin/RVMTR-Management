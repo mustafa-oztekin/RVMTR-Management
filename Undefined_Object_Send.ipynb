{
 "cells": [
  {
   "cell_type": "code",
   "execution_count": 1,
   "id": "170047ec",
   "metadata": {},
   "outputs": [],
   "source": [
    "import requests\n",
    "from datetime import datetime as dt\n",
    "import wget\n",
    "import json"
   ]
  },
  {
   "cell_type": "code",
   "execution_count": 2,
   "id": "e16ab5c4",
   "metadata": {},
   "outputs": [
    {
     "name": "stdout",
     "output_type": "stream",
     "text": [
      "2023-3-8T10:22:1\n"
     ]
    }
   ],
   "source": [
    "# using now() to get current time\n",
    "current_time = dt.now()\n",
    " \n",
    "# Printing attributes of now().\n",
    "year = str(current_time.year)\n",
    "month = str(current_time.month)\n",
    "day = str(current_time.day)\n",
    "hour = str(current_time.hour)\n",
    "minute = str(current_time.minute)\n",
    "second = str(current_time.second)\n",
    "\n",
    "n = year + '-' + month + '-' + day + 'T' + hour + ':' + minute + ':' + second\n",
    "print(n)"
   ]
  },
  {
   "cell_type": "code",
   "execution_count": 3,
   "id": "80438578",
   "metadata": {},
   "outputs": [
    {
     "name": "stdout",
     "output_type": "stream",
     "text": [
      "200\n"
     ]
    }
   ],
   "source": [
    "response = requests.get('https://atlas.rvmtr.com/Services//Transaction/Event/ApiDbCreateData?apikeysecret=8bc695c4-8a1b-4e4c-bec2-bee821c3a07d&data=[{\"EventId\":1,\"NodeId\":1,\"EventDate\":\"2023-02-13T10:18:27\",\"EventName\":\"Tanımsız Nesne\",\"EventDescription\":\"Nesne Tespiti\",\"TypeId\":7,\"PriorityId\":1,\"ImpactId\":2,\"StatusId\":2,\"Source\":\"\",\"SourceId\":\"2\",\"ClearStatus\":\"\",\"ClearDateTime\":\"2022-06-16T10:18:29\",\"SessionId\":22,\"Gift\":15.0,\"Comment1\":\"\",\"Comment2\":\"\",\"Comment3\":\"\"}]')\n",
    "\n",
    "print(response.status_code)"
   ]
  },
  {
   "cell_type": "code",
   "execution_count": 128,
   "id": "3232e30d",
   "metadata": {},
   "outputs": [
    {
     "name": "stdout",
     "output_type": "stream",
     "text": [
      "200\n"
     ]
    }
   ],
   "source": [
    "url = 'https://atlas.rvmtr.com/Services/Transaction/Event/ApiDbListData?apikeysecret=8bc695c4-8a1b-4e4c-bec2-bee821c3a07d'\n",
    "r = requests.get(url)\n",
    "print(r.status_code)"
   ]
  },
  {
   "cell_type": "code",
   "execution_count": null,
   "id": "fecfc851",
   "metadata": {},
   "outputs": [],
   "source": [
    "result = json.loads(r.json())\n",
    "print(\"The converted list : \\n\",result)"
   ]
  },
  {
   "cell_type": "code",
   "execution_count": null,
   "id": "e3f0c5f0",
   "metadata": {},
   "outputs": [],
   "source": [
    "liste = []\n",
    "for x in result:\n",
    "    liste.append(x.get('EventId'))\n",
    "liste"
   ]
  },
  {
   "cell_type": "code",
   "execution_count": 131,
   "id": "891c2829",
   "metadata": {},
   "outputs": [
    {
     "data": {
      "text/plain": [
       "658"
      ]
     },
     "execution_count": 131,
     "metadata": {},
     "output_type": "execute_result"
    }
   ],
   "source": [
    "max(liste)"
   ]
  },
  {
   "cell_type": "code",
   "execution_count": 132,
   "id": "e31ba2a6",
   "metadata": {},
   "outputs": [
    {
     "data": {
      "text/plain": [
       "int"
      ]
     },
     "execution_count": 132,
     "metadata": {},
     "output_type": "execute_result"
    }
   ],
   "source": [
    "type(max(liste))"
   ]
  },
  {
   "cell_type": "code",
   "execution_count": 133,
   "id": "5db2e496",
   "metadata": {},
   "outputs": [
    {
     "name": "stdout",
     "output_type": "stream",
     "text": [
      "Son gerçekleşen event: \n",
      " {'EventId': 658, 'NodeId': 1, 'EventDate': '2023-02-13T10:18:27.000', 'EventName': 'Tanımsız Nesne', 'EventDescription': 'Nesne Tespiti', 'TypeId': 7, 'PriorityId': 1, 'ImpactId': 2, 'StatusId': 2, 'Source': '', 'SourceId': 2, 'ClearStatus': 0, 'ClearDateTime': '2022-06-16T10:18:29.000', 'SessionId': 22, 'Gift': 15.0, 'Comment1': '', 'Comment2': '', 'Comment3': ''}\n"
     ]
    }
   ],
   "source": [
    "for x in result:\n",
    "    if (x.get('EventId') == max(liste)):\n",
    "        print(\"Son gerçekleşen event: \\n\", x)\n",
    "        #yazilim_url = 'https://atlas.rvmtr.com/upload/' + i.get('EventFile')\n",
    "        #yazilim_name = wget.download(yazilim_url)"
   ]
  },
  {
   "cell_type": "code",
   "execution_count": 134,
   "id": "400b6750",
   "metadata": {},
   "outputs": [],
   "source": [
    "n = str(max(liste))"
   ]
  },
  {
   "cell_type": "code",
   "execution_count": 135,
   "id": "11cbddbc",
   "metadata": {},
   "outputs": [
    {
     "data": {
      "text/plain": [
       "'658'"
      ]
     },
     "execution_count": 135,
     "metadata": {},
     "output_type": "execute_result"
    }
   ],
   "source": [
    "n"
   ]
  },
  {
   "cell_type": "code",
   "execution_count": 136,
   "id": "e5db3916",
   "metadata": {},
   "outputs": [],
   "source": [
    "resim = open(\"indir1.jpg\", \"rb\")\n",
    "\n",
    "resim_url = \"https://atlas.rvmtr.com/Services//Transaction/Event/ApiDbUploadFile?apikeysecret=8bc695c4-8a1b-4e4c-bec2-bee821c3a07d&EventId=\"+n+\"\"\n",
    "\n",
    "resim_response = requests.post(resim_url, files = {\"form_field_name\": resim})"
   ]
  },
  {
   "cell_type": "code",
   "execution_count": null,
   "id": "6cf33e89",
   "metadata": {},
   "outputs": [],
   "source": []
  },
  {
   "cell_type": "markdown",
   "id": "d2dedc16",
   "metadata": {},
   "source": [
    "### server - client mesaj "
   ]
  },
  {
   "cell_type": "code",
   "execution_count": 106,
   "id": "2b4732f2",
   "metadata": {},
   "outputs": [],
   "source": [
    "HEADERSIZE = 2"
   ]
  },
  {
   "cell_type": "code",
   "execution_count": 107,
   "id": "2bf53df5",
   "metadata": {},
   "outputs": [],
   "source": [
    "msg = 'mustafa'"
   ]
  },
  {
   "cell_type": "code",
   "execution_count": 108,
   "id": "65d3cba6",
   "metadata": {},
   "outputs": [],
   "source": [
    "msg = f'{len(msg):<{HEADERSIZE}}' + msg"
   ]
  },
  {
   "cell_type": "code",
   "execution_count": 109,
   "id": "cf131bf2",
   "metadata": {},
   "outputs": [
    {
     "data": {
      "text/plain": [
       "'7 mustafa'"
      ]
     },
     "execution_count": 109,
     "metadata": {},
     "output_type": "execute_result"
    }
   ],
   "source": [
    "msg"
   ]
  },
  {
   "cell_type": "code",
   "execution_count": 110,
   "id": "d078cf3e",
   "metadata": {},
   "outputs": [
    {
     "name": "stdout",
     "output_type": "stream",
     "text": [
      "uzunluk: 7 \n"
     ]
    }
   ],
   "source": [
    "print(f'uzunluk: {msg[:HEADERSIZE]}')"
   ]
  },
  {
   "cell_type": "code",
   "execution_count": 111,
   "id": "698e5592",
   "metadata": {},
   "outputs": [],
   "source": [
    "msglen = (int(msg[:HEADERSIZE]))"
   ]
  },
  {
   "cell_type": "code",
   "execution_count": 112,
   "id": "139d4ba4",
   "metadata": {},
   "outputs": [],
   "source": [
    "full_msg = ''"
   ]
  },
  {
   "cell_type": "code",
   "execution_count": 113,
   "id": "a38769e5",
   "metadata": {},
   "outputs": [],
   "source": [
    "full_msg += msg"
   ]
  },
  {
   "cell_type": "code",
   "execution_count": 114,
   "id": "908a1500",
   "metadata": {},
   "outputs": [
    {
     "data": {
      "text/plain": [
       "'7 mustafa'"
      ]
     },
     "execution_count": 114,
     "metadata": {},
     "output_type": "execute_result"
    }
   ],
   "source": [
    "full_msg"
   ]
  },
  {
   "cell_type": "code",
   "execution_count": 115,
   "id": "5addae6a",
   "metadata": {},
   "outputs": [
    {
     "name": "stdout",
     "output_type": "stream",
     "text": [
      "7\n"
     ]
    }
   ],
   "source": [
    "print(len(full_msg) - HEADERSIZE)"
   ]
  },
  {
   "cell_type": "code",
   "execution_count": 116,
   "id": "d4866915",
   "metadata": {},
   "outputs": [
    {
     "data": {
      "text/plain": [
       "7"
      ]
     },
     "execution_count": 116,
     "metadata": {},
     "output_type": "execute_result"
    }
   ],
   "source": [
    "msglen"
   ]
  },
  {
   "cell_type": "code",
   "execution_count": 117,
   "id": "c472c9bd",
   "metadata": {},
   "outputs": [
    {
     "data": {
      "text/plain": [
       "'mustafa'"
      ]
     },
     "execution_count": 117,
     "metadata": {},
     "output_type": "execute_result"
    }
   ],
   "source": [
    "full_msg[HEADERSIZE:]"
   ]
  },
  {
   "cell_type": "code",
   "execution_count": null,
   "id": "8ecf0f3c",
   "metadata": {},
   "outputs": [],
   "source": []
  }
 ],
 "metadata": {
  "kernelspec": {
   "display_name": "Python 3 (ipykernel)",
   "language": "python",
   "name": "python3"
  },
  "language_info": {
   "codemirror_mode": {
    "name": "ipython",
    "version": 3
   },
   "file_extension": ".py",
   "mimetype": "text/x-python",
   "name": "python",
   "nbconvert_exporter": "python",
   "pygments_lexer": "ipython3",
   "version": "3.9.7"
  }
 },
 "nbformat": 4,
 "nbformat_minor": 5
}
